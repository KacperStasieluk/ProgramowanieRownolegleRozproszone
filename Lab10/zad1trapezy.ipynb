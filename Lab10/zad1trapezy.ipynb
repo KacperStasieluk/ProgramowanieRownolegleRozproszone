{
  "nbformat": 4,
  "nbformat_minor": 0,
  "metadata": {
    "colab": {
      "name": "zad1trapezy.ipynb",
      "provenance": [],
      "collapsed_sections": []
    },
    "kernelspec": {
      "name": "python3",
      "display_name": "Python 3"
    }
  },
  "cells": [
    {
      "cell_type": "code",
      "metadata": {
        "id": "xHSyojMCNeJX",
        "colab": {
          "base_uri": "https://localhost:8080/"
        },
        "outputId": "9b890e93-b14d-4a6a-d7a3-98a237830c44"
      },
      "source": [
        "def funkcja(my_func, a, b, n):\r\n",
        "    h = (b-a)/n\r\n",
        "    total = my_func(a)/2 + my_func(b)/2\r\n",
        "    for i in range(1,n):\r\n",
        "        x = a + h * i\r\n",
        "        total += my_func(x)\r\n",
        "    return total * h\r\n",
        "\r\n",
        "#a = float(input(\"Podaj poczatek przedzialu: \"))\r\n",
        "#b = float(input(\"Podaj koniec przedzialu: \"))\r\n",
        "#i = int(input(\"Podaj liczbe przedzialow: \"))\r\n",
        "#print(\"Całka = {funkcja}\".format(funkcja = funkcja(function, a, b, i)))\r\n",
        "\r\n",
        "\r\n",
        "\r\n",
        "wynik = funkcja(lambda x: x**2, 1, 4, 50)\r\n",
        "\r\n",
        "\r\n",
        "print(wynik)"
      ],
      "execution_count": 10,
      "outputs": [
        {
          "output_type": "stream",
          "text": [
            "21.0018\n"
          ],
          "name": "stdout"
        }
      ]
    }
  ]
}