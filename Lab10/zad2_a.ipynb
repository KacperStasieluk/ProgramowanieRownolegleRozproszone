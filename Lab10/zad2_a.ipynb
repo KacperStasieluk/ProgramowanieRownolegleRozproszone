{
  "nbformat": 4,
  "nbformat_minor": 0,
  "metadata": {
    "colab": {
      "name": "zad2_a.ipynb",
      "provenance": [],
      "collapsed_sections": []
    },
    "kernelspec": {
      "name": "python3",
      "display_name": "Python 3"
    },
    "accelerator": "GPU"
  },
  "cells": [
    {
      "cell_type": "code",
      "metadata": {
        "id": "xHSyojMCNeJX"
      },
      "source": [
        "import tensorflow as tf\r\n",
        "import numpy as np\r\n",
        "from tensorflow import keras"
      ],
      "execution_count": null,
      "outputs": []
    },
    {
      "cell_type": "code",
      "metadata": {
        "id": "YmW-4CXxlTh8"
      },
      "source": [
        "model = tf.keras.Sequential([keras.layers.Dense(units=1000, input_shape=[1]),\r\n",
        "                             keras.layers.Dense(units=1000),\r\n",
        "                             keras.layers.Dense(1)])"
      ],
      "execution_count": null,
      "outputs": []
    },
    {
      "cell_type": "code",
      "metadata": {
        "id": "yWhEgzUMlsos"
      },
      "source": [
        "model.compile(optimizer='adam', loss='mean_squared_error')"
      ],
      "execution_count": null,
      "outputs": []
    },
    {
      "cell_type": "code",
      "metadata": {
        "id": "aitt0U1YlyVV"
      },
      "source": [
        "xs=np.arange(-40.0,40.0,0.1,dtype=float)\r\n",
        "ys=[]\r\n",
        "for x in xs:\r\n",
        "  y = (x-2)*(x+1)*(x-4)\r\n",
        "  ys.append(y)\r\n",
        "ys=np.array(ys,dtype=float)   "
      ],
      "execution_count": null,
      "outputs": []
    },
    {
      "cell_type": "code",
      "metadata": {
        "id": "3l2DPQ_Olzi_"
      },
      "source": [
        "model.fit(xs, ys, epochs=500)"
      ],
      "execution_count": null,
      "outputs": []
    },
    {
      "cell_type": "code",
      "metadata": {
        "id": "JS9KR61nmC0v"
      },
      "source": [
        "print(model.predict([10.0]))"
      ],
      "execution_count": null,
      "outputs": []
    }
  ]
}