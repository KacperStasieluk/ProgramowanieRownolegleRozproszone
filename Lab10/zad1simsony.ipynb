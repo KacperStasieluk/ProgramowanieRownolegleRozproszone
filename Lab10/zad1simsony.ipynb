{
  "nbformat": 4,
  "nbformat_minor": 0,
  "metadata": {
    "colab": {
      "name": "zad1simsony.ipynb",
      "provenance": [],
      "collapsed_sections": []
    },
    "kernelspec": {
      "name": "python3",
      "display_name": "Python 3"
    }
  },
  "cells": [
    {
      "cell_type": "code",
      "metadata": {
        "id": "xHSyojMCNeJX",
        "colab": {
          "base_uri": "https://localhost:8080/"
        },
        "outputId": "3f62129a-0d47-483b-881f-7656bb5d4393"
      },
      "source": [
        "from math import sqrt\r\n",
        "\r\n",
        "def x(i, a, b, n):\r\n",
        "    return a+(i/n)*(b-a)\r\n",
        "\r\n",
        "def t(i,a,b,n):\r\n",
        "    return (x(i+1,a,b,n) + x(i,a,b,n)) / 2\r\n",
        "\r\n",
        "def funkcja(my_func, a, b, n):\r\n",
        "    h = (x(2,a,b,n) - x(1,a,b,n))/2\r\n",
        "    total = my_func(x(0,a,b,n)) + my_func(x(n,a,b,n)) + 4*my_func(t(0,a,b,n))\r\n",
        "    for i in range(1,n):\r\n",
        "        total += 4*my_func(t(i,a,b,n))\r\n",
        "        total += 2*my_func(x(i,a,b,n))\r\n",
        "    return total * h/3\r\n",
        "\r\n",
        "wynik = funkcja(lambda x: x**2, 1, 4, 50)\r\n",
        "\r\n",
        "print(wynik)"
      ],
      "execution_count": 1,
      "outputs": [
        {
          "output_type": "stream",
          "text": [
            "21.000000000000025\n"
          ],
          "name": "stdout"
        }
      ]
    }
  ]
}