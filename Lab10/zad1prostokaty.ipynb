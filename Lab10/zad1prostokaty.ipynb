{
  "nbformat": 4,
  "nbformat_minor": 0,
  "metadata": {
    "colab": {
      "name": "zad1prostokaty.ipynb",
      "provenance": [],
      "collapsed_sections": []
    },
    "kernelspec": {
      "name": "python3",
      "display_name": "Python 3"
    }
  },
  "cells": [
    {
      "cell_type": "code",
      "metadata": {
        "id": "xHSyojMCNeJX",
        "colab": {
          "base_uri": "https://localhost:8080/",
          "height": 231
        },
        "outputId": "93f8aa22-0bf6-49b5-cb1d-d65894535284"
      },
      "source": [
        "def funkcja(function, a, b, i):\r\n",
        "    dx = (b - a) / i\r\n",
        "    integr = 0\r\n",
        "    for x in range(i):\r\n",
        "        x = x * dx + a\r\n",
        "        integr += dx * eval(function)\r\n",
        "    return integr\r\n",
        " \r\n",
        "def main(args):\r\n",
        "    function = input(\"Podaj funkcje: \")\r\n",
        "    a = float(input(\"Podaj poczatek przedzialu: \"))\r\n",
        "    b = float(input(\"Podaj koniec przedzialu: \"))\r\n",
        "    i = int(input(\"Podaj liczbe przedzialow: \"))\r\n",
        "    print(\"Całka = {funkcja}\".format(funkcja = funkcja(function, a, b, i)))\r\n",
        "    return 0\r\n",
        " \r\n",
        "if __name__ == '__main__':\r\n",
        "    import sys\r\n",
        "    sys.exit(main(sys.argv))"
      ],
      "execution_count": 1,
      "outputs": [
        {
          "output_type": "stream",
          "text": [
            "Podaj funkcje: x**2\n",
            "Podaj poczatek przedzialu: 1\n",
            "Podaj koniec przedzialu: 4\n",
            "Podaj liczbe przedzialow: 50\n",
            "Całka = 20.5518\n"
          ],
          "name": "stdout"
        },
        {
          "output_type": "error",
          "ename": "SystemExit",
          "evalue": "ignored",
          "traceback": [
            "An exception has occurred, use %tb to see the full traceback.\n",
            "\u001b[0;31mSystemExit\u001b[0m\u001b[0;31m:\u001b[0m 0\n"
          ]
        },
        {
          "output_type": "stream",
          "text": [
            "/usr/local/lib/python3.6/dist-packages/IPython/core/interactiveshell.py:2890: UserWarning: To exit: use 'exit', 'quit', or Ctrl-D.\n",
            "  warn(\"To exit: use 'exit', 'quit', or Ctrl-D.\", stacklevel=1)\n"
          ],
          "name": "stderr"
        }
      ]
    }
  ]
}